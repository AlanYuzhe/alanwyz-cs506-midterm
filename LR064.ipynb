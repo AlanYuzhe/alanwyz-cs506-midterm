{
 "cells": [
  {
   "cell_type": "markdown",
   "metadata": {},
   "source": [
    "# Libraries"
   ]
  },
  {
   "cell_type": "code",
   "execution_count": 10,
   "metadata": {},
   "outputs": [],
   "source": [
    "import pandas as pd\n",
    "import numpy as np\n",
    "from sklearn.feature_extraction.text import TfidfVectorizer, CountVectorizer\n",
    "from sklearn.preprocessing import StandardScaler\n",
    "from sklearn.model_selection import train_test_split, GridSearchCV\n",
    "import scipy.sparse as sp\n",
    "from xgboost import XGBRegressor\n",
    "import pickle\n"
   ]
  },
  {
   "cell_type": "code",
   "execution_count": 17,
   "metadata": {},
   "outputs": [
    {
     "name": "stdout",
     "output_type": "stream",
     "text": [
      "Loading training and test data...\n",
      "Train data shape: (1697533, 9)\n",
      "Test IDs shape: (212192,)\n",
      "Filtered train data shape: (1485341, 9)\n",
      "Filtered test data shape: (212192, 9)\n",
      "Extracting TF-IDF features...\n",
      "Extracting N-grams (2-grams) features\n",
      "Extracting numerical features\n",
      "Saving all extracted features...\n",
      "All features and processed data have been saved successfully.\n"
     ]
    }
   ],
   "source": [
    "print(\"Loading training and test data...\")\n",
    "train_data = pd.read_csv('data/train.csv')\n",
    "test_ids = pd.read_csv('data/test.csv')['Id']\n",
    "\n",
    "print(f\"Train data shape: {train_data.shape}\")\n",
    "print(f\"Test IDs shape: {test_ids.shape}\")\n",
    "\n",
    "# Step 1: Data Split\n",
    "test_data = train_data[train_data['Id'].isin(test_ids)].copy()\n",
    "train_data_with_score = train_data[~train_data['Id'].isin(test_ids)].copy()\n",
    "\n",
    "print(f\"Filtered train data shape: {train_data_with_score.shape}\")\n",
    "print(f\"Filtered test data shape: {test_data.shape}\")\n",
    "\n",
    "# Step 2: TF-IDF and N-grams\n",
    "train_data_with_score['Text'] = train_data_with_score['Text'].fillna('').astype(str)\n",
    "train_data_with_score['Summary'] = train_data_with_score['Summary'].fillna('').astype(str)\n",
    "combined_text_train = train_data_with_score['Text'] + ' ' + train_data_with_score['Summary']\n",
    "\n",
    "test_data['Text'] = test_data['Text'].fillna('').astype(str)\n",
    "test_data['Summary'] = test_data['Summary'].fillna('').astype(str)\n",
    "combined_text_test = test_data['Text'] + ' ' + test_data['Summary']\n",
    "\n",
    "print(\"Extracting TF-IDF features...\")\n",
    "tfidf = TfidfVectorizer(max_features=5000, stop_words='english')\n",
    "train_tfidf_features = tfidf.fit_transform(combined_text_train)\n",
    "test_tfidf_features = tfidf.transform(combined_text_test)\n",
    "\n",
    "print(\"Extracting N-grams (2-grams) features\")\n",
    "ngram_vectorizer = CountVectorizer(ngram_range=(2, 2), max_features=3000, stop_words='english')\n",
    "train_ngram_features = ngram_vectorizer.fit_transform(combined_text_train)\n",
    "test_ngram_features = ngram_vectorizer.transform(combined_text_test)\n",
    "\n",
    "# Step 5: numerical features\n",
    "print(\"Extracting numerical features\")\n",
    "train_data_with_score['HelpfulnessRatio'] = train_data_with_score['HelpfulnessNumerator'] / (train_data_with_score['HelpfulnessDenominator'] + 1)\n",
    "train_data_with_score['ReviewYear'] = pd.to_datetime(train_data_with_score['Time'], unit='s').dt.year\n",
    "train_data_with_score['TextLength'] = train_data_with_score['Text'].apply(len)\n",
    "train_data_with_score['SummaryLength'] = train_data_with_score['Summary'].apply(len)\n",
    "\n",
    "test_data['HelpfulnessRatio'] = test_data['HelpfulnessNumerator'] / (test_data['HelpfulnessDenominator'] + 1)\n",
    "test_data['ReviewYear'] = pd.to_datetime(test_data['Time'], unit='s').dt.year\n",
    "test_data['TextLength'] = test_data['Text'].apply(len)\n",
    "test_data['SummaryLength'] = test_data['Summary'].apply(len)\n",
    "\n",
    "numerical_features_train = train_data_with_score[['HelpfulnessRatio', 'ReviewYear', 'TextLength', 'SummaryLength']]\n",
    "numerical_features_test = test_data[['HelpfulnessRatio', 'ReviewYear', 'TextLength', 'SummaryLength']]\n",
    "\n",
    "# normalize\n",
    "scaler = StandardScaler()\n",
    "numerical_features_train_scaled = scaler.fit_transform(numerical_features_train)\n",
    "numerical_features_test_scaled = scaler.transform(numerical_features_test)\n",
    "\n",
    "# save features\n",
    "print(\"Saving all extracted features...\")\n",
    "sp.save_npz('data/processed_train_tfidf.npz', train_tfidf_features)\n",
    "sp.save_npz('data/processed_test_tfidf.npz', test_tfidf_features)\n",
    "sp.save_npz('data/processed_train_ngram.npz', train_ngram_features)\n",
    "sp.save_npz('data/processed_test_ngram.npz', test_ngram_features)\n",
    "\n",
    "np.save('data/processed_train_numerical_features.npy', numerical_features_train_scaled)\n",
    "np.save('data/processed_test_numerical_features.npy', numerical_features_test_scaled)\n",
    "np.save('data/processed_y_train.npy', train_data_with_score['Score'].values)\n",
    "\n",
    "# 保存处理后的训练和测试数据\n",
    "train_data_with_score.to_csv('data/processed_train_data_with_features.csv', index=False)\n",
    "test_data.to_csv('data/processed_test_data_with_features.csv', index=False)\n",
    "\n",
    "print(\"All features and processed data have been saved successfully.\")"
   ]
  },
  {
   "cell_type": "code",
   "execution_count": 11,
   "metadata": {},
   "outputs": [
    {
     "name": "stdout",
     "output_type": "stream",
     "text": [
      "Loading saved features...\n",
      "Feature split completed.\n",
      "Training set shape: (1485341, 5004)\n",
      "Test set shape: (212192, 5004)\n"
     ]
    }
   ],
   "source": [
    "from scipy.sparse import hstack, csr_matrix\n",
    "\n",
    "print(\"Loading saved features...\")\n",
    "train_tfidf = sp.load_npz('data/processed_train_tfidf.npz')\n",
    "test_tfidf = sp.load_npz('data/processed_test_tfidf.npz')\n",
    "train_numerical = np.load('data/processed_train_numerical_features.npy')\n",
    "test_numerical = np.load('data/processed_test_numerical_features.npy')\n",
    "y_train = np.load('data/processed_y_train.npy')\n",
    "\n",
    "def combine_features(tfidf, numerical):\n",
    "    return hstack([tfidf, csr_matrix(numerical)])\n",
    "\n",
    "X_train = combine_features(train_tfidf, train_numerical)\n",
    "X_test = combine_features(test_tfidf, test_numerical)\n",
    "\n",
    "assert X_train.shape[0] == y_train.shape[0], \"Mismatch in number of samples between X_train and y_train\"\n",
    "\n",
    "print(\"Feature split completed.\")\n",
    "print(f\"Training set shape: {X_train.shape}\")\n",
    "print(f\"Test set shape: {X_test.shape}\")\n"
   ]
  },
  {
   "cell_type": "markdown",
   "metadata": {},
   "source": [
    "# Adding Features"
   ]
  },
  {
   "cell_type": "code",
   "execution_count": 12,
   "metadata": {},
   "outputs": [
    {
     "name": "stdout",
     "output_type": "stream",
     "text": [
      "Training Logistic Regression model\n"
     ]
    },
    {
     "name": "stderr",
     "output_type": "stream",
     "text": [
      "/Users/yuzhewu/Documents/cs506/midterm/.venv/lib/python3.12/site-packages/sklearn/linear_model/_logistic.py:460: ConvergenceWarning: lbfgs failed to converge (status=1):\n",
      "STOP: TOTAL NO. of ITERATIONS REACHED LIMIT.\n",
      "\n",
      "Increase the number of iterations (max_iter) or scale the data as shown in:\n",
      "    https://scikit-learn.org/stable/modules/preprocessing.html\n",
      "Please also refer to the documentation for alternative solver options:\n",
      "    https://scikit-learn.org/stable/modules/linear_model.html#logistic-regression\n",
      "  n_iter_i = _check_optimize_result(\n"
     ]
    },
    {
     "data": {
      "text/html": [
       "<style>#sk-container-id-1 {color: black;}#sk-container-id-1 pre{padding: 0;}#sk-container-id-1 div.sk-toggleable {background-color: white;}#sk-container-id-1 label.sk-toggleable__label {cursor: pointer;display: block;width: 100%;margin-bottom: 0;padding: 0.3em;box-sizing: border-box;text-align: center;}#sk-container-id-1 label.sk-toggleable__label-arrow:before {content: \"▸\";float: left;margin-right: 0.25em;color: #696969;}#sk-container-id-1 label.sk-toggleable__label-arrow:hover:before {color: black;}#sk-container-id-1 div.sk-estimator:hover label.sk-toggleable__label-arrow:before {color: black;}#sk-container-id-1 div.sk-toggleable__content {max-height: 0;max-width: 0;overflow: hidden;text-align: left;background-color: #f0f8ff;}#sk-container-id-1 div.sk-toggleable__content pre {margin: 0.2em;color: black;border-radius: 0.25em;background-color: #f0f8ff;}#sk-container-id-1 input.sk-toggleable__control:checked~div.sk-toggleable__content {max-height: 200px;max-width: 100%;overflow: auto;}#sk-container-id-1 input.sk-toggleable__control:checked~label.sk-toggleable__label-arrow:before {content: \"▾\";}#sk-container-id-1 div.sk-estimator input.sk-toggleable__control:checked~label.sk-toggleable__label {background-color: #d4ebff;}#sk-container-id-1 div.sk-label input.sk-toggleable__control:checked~label.sk-toggleable__label {background-color: #d4ebff;}#sk-container-id-1 input.sk-hidden--visually {border: 0;clip: rect(1px 1px 1px 1px);clip: rect(1px, 1px, 1px, 1px);height: 1px;margin: -1px;overflow: hidden;padding: 0;position: absolute;width: 1px;}#sk-container-id-1 div.sk-estimator {font-family: monospace;background-color: #f0f8ff;border: 1px dotted black;border-radius: 0.25em;box-sizing: border-box;margin-bottom: 0.5em;}#sk-container-id-1 div.sk-estimator:hover {background-color: #d4ebff;}#sk-container-id-1 div.sk-parallel-item::after {content: \"\";width: 100%;border-bottom: 1px solid gray;flex-grow: 1;}#sk-container-id-1 div.sk-label:hover label.sk-toggleable__label {background-color: #d4ebff;}#sk-container-id-1 div.sk-serial::before {content: \"\";position: absolute;border-left: 1px solid gray;box-sizing: border-box;top: 0;bottom: 0;left: 50%;z-index: 0;}#sk-container-id-1 div.sk-serial {display: flex;flex-direction: column;align-items: center;background-color: white;padding-right: 0.2em;padding-left: 0.2em;position: relative;}#sk-container-id-1 div.sk-item {position: relative;z-index: 1;}#sk-container-id-1 div.sk-parallel {display: flex;align-items: stretch;justify-content: center;background-color: white;position: relative;}#sk-container-id-1 div.sk-item::before, #sk-container-id-1 div.sk-parallel-item::before {content: \"\";position: absolute;border-left: 1px solid gray;box-sizing: border-box;top: 0;bottom: 0;left: 50%;z-index: -1;}#sk-container-id-1 div.sk-parallel-item {display: flex;flex-direction: column;z-index: 1;position: relative;background-color: white;}#sk-container-id-1 div.sk-parallel-item:first-child::after {align-self: flex-end;width: 50%;}#sk-container-id-1 div.sk-parallel-item:last-child::after {align-self: flex-start;width: 50%;}#sk-container-id-1 div.sk-parallel-item:only-child::after {width: 0;}#sk-container-id-1 div.sk-dashed-wrapped {border: 1px dashed gray;margin: 0 0.4em 0.5em 0.4em;box-sizing: border-box;padding-bottom: 0.4em;background-color: white;}#sk-container-id-1 div.sk-label label {font-family: monospace;font-weight: bold;display: inline-block;line-height: 1.2em;}#sk-container-id-1 div.sk-label-container {text-align: center;}#sk-container-id-1 div.sk-container {/* jupyter's `normalize.less` sets `[hidden] { display: none; }` but bootstrap.min.css set `[hidden] { display: none !important; }` so we also need the `!important` here to be able to override the default hidden behavior on the sphinx rendered scikit-learn.org. See: https://github.com/scikit-learn/scikit-learn/issues/21755 */display: inline-block !important;position: relative;}#sk-container-id-1 div.sk-text-repr-fallback {display: none;}</style><div id=\"sk-container-id-1\" class=\"sk-top-container\"><div class=\"sk-text-repr-fallback\"><pre>LogisticRegression(max_iter=1000)</pre><b>In a Jupyter environment, please rerun this cell to show the HTML representation or trust the notebook. <br />On GitHub, the HTML representation is unable to render, please try loading this page with nbviewer.org.</b></div><div class=\"sk-container\" hidden><div class=\"sk-item\"><div class=\"sk-estimator sk-toggleable\"><input class=\"sk-toggleable__control sk-hidden--visually\" id=\"sk-estimator-id-1\" type=\"checkbox\" checked><label for=\"sk-estimator-id-1\" class=\"sk-toggleable__label sk-toggleable__label-arrow\">LogisticRegression</label><div class=\"sk-toggleable__content\"><pre>LogisticRegression(max_iter=1000)</pre></div></div></div></div></div>"
      ],
      "text/plain": [
       "LogisticRegression(max_iter=1000)"
      ]
     },
     "execution_count": 12,
     "metadata": {},
     "output_type": "execute_result"
    }
   ],
   "source": [
    "from sklearn.linear_model import LogisticRegression\n",
    "from sklearn.metrics import mean_squared_error, accuracy_score, confusion_matrix\n",
    "from sklearn.model_selection import train_test_split\n",
    "\n",
    "X_train_split, X_val_split, y_train_split, y_val_split = train_test_split(X_train, y_train, test_size=0.2, random_state=42)\n",
    "\n",
    "# train Logistic Regression \n",
    "print(\"Training Logistic Regression model\")\n",
    "lr_model = LogisticRegression(max_iter=1000)\n",
    "lr_model.fit(X_train_split, y_train_split)\n",
    "\n",
    "\n",
    "# train XGBoost \n",
    "# print(\"Training XGBoost model\")\n",
    "# xgb_model = XGBRegressor(random_state=42, objective='reg:squarederror')\n",
    "# xgb_model.fit(X_train_split, y_train_split)\n"
   ]
  },
  {
   "cell_type": "markdown",
   "metadata": {},
   "source": [
    "# Feature Selection"
   ]
  },
  {
   "cell_type": "code",
   "execution_count": 13,
   "metadata": {},
   "outputs": [
    {
     "name": "stdout",
     "output_type": "stream",
     "text": [
      "Evaluating models...\n",
      "--- Logistic Regression ---\n",
      "Validation RMSE: 0.9341\n",
      "Accuracy: 0.6472\n",
      "Confusion Matrix:\n",
      "[[ 10471   2592   1403    535   3073]\n",
      " [  3461   4493   4913   1636   3101]\n",
      " [  1385   2619  12163   9131   9881]\n",
      " [   791    641   5802  22039  37854]\n",
      " [  1216    410   2177  12182 143100]]\n",
      "Logistic Regression evaluation completed.\n",
      "\n",
      "Saving models...\n",
      "All models have been saved successfully.\n"
     ]
    }
   ],
   "source": [
    "def evaluate_model(model, X_val, y_val, model_name):\n",
    "    y_val_pred = model.predict(X_val)\n",
    "    y_val_pred_rounded = np.clip(np.round(y_val_pred), 1, 5).astype(int)\n",
    "    \n",
    "    print(f\"--- {model_name} ---\")\n",
    "    print(f\"Validation RMSE: {mean_squared_error(y_val, y_val_pred, squared=False):.4f}\")\n",
    "    print(f\"Accuracy: {accuracy_score(y_val, y_val_pred_rounded):.4f}\")\n",
    "    print(\"Confusion Matrix:\")\n",
    "    print(confusion_matrix(y_val, y_val_pred_rounded))\n",
    "    print(f\"{model_name} evaluation completed.\\n\")\n",
    "\n",
    "print(\"Evaluating models...\")\n",
    "evaluate_model(lr_model, X_val_split, y_val_split, 'Logistic Regression')\n",
    "# evaluate_model(xgb_model, X_val_split, y_val_split, 'XGBoost')\n",
    "\n",
    "# 保存模型\n",
    "import joblib\n",
    "print(\"Saving models\")\n",
    "joblib.dump(lr_model, 'models/logistic_regression.joblib')\n",
    "# joblib.dump(xgb_model, 'models/xgboost.joblib')\n",
    "print(\"All models have been saved successfully.\")"
   ]
  },
  {
   "cell_type": "code",
   "execution_count": 16,
   "metadata": {},
   "outputs": [
    {
     "name": "stdout",
     "output_type": "stream",
     "text": [
      "Submission file saved as 'submission.csv'.\n"
     ]
    }
   ],
   "source": [
    "test_predictions = lr_model.predict(X_test)\n",
    "test_predictions_rounded = np.clip(np.round(test_predictions), 1, 5).astype(int)\n",
    "\n",
    "submission = pd.DataFrame({\n",
    "    'Id': test_data['Id'],\n",
    "    'Score': test_predictions_rounded\n",
    "})\n",
    "\n",
    "submission.to_csv('submission.csv', index=False)\n",
    "print(\"Submission file saved as 'submission.csv'.\")"
   ]
  }
 ],
 "metadata": {
  "kernelspec": {
   "display_name": ".venv",
   "language": "python",
   "name": "python3"
  },
  "language_info": {
   "codemirror_mode": {
    "name": "ipython",
    "version": 3
   },
   "file_extension": ".py",
   "mimetype": "text/x-python",
   "name": "python",
   "nbconvert_exporter": "python",
   "pygments_lexer": "ipython3",
   "version": "3.12.7"
  }
 },
 "nbformat": 4,
 "nbformat_minor": 2
}
